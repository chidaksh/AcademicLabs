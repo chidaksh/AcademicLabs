{
  "nbformat": 4,
  "nbformat_minor": 0,
  "metadata": {
    "colab": {
      "name": "DA_firsthalf_prob1.ipynb",
      "provenance": []
    },
    "kernelspec": {
      "name": "python3",
      "display_name": "Python 3"
    },
    "language_info": {
      "name": "python"
    }
  },
  "cells": [
    {
      "cell_type": "markdown",
      "metadata": {
        "id": "m8ADnq2CatxG"
      },
      "source": [
        "**NOTE**:\n",
        "    \n",
        "    1. Please upload the file in .xls format only while running the below code.\n",
        "    2. Upload this file on Google drive and then open with google colab."
      ]
    },
    {
      "cell_type": "code",
      "metadata": {
        "id": "BEE58JgsKZzQ"
      },
      "source": [
        "import numpy as np\n",
        "import pandas as pd\n",
        "\n",
        "import seaborn as sns\n",
        "import matplotlib.pyplot as plt\n",
        "\n",
        "sns.set(color_codes=True);"
      ],
      "execution_count": 4,
      "outputs": []
    },
    {
      "cell_type": "code",
      "metadata": {
        "id": "4W94WUv9KiBR"
      },
      "source": [
        "series = pd.read_excel(\"comp_1_200010046.xls\",header=None)"
      ],
      "execution_count": 5,
      "outputs": []
    },
    {
      "cell_type": "code",
      "metadata": {
        "id": "LPTwdpGvKkPk"
      },
      "source": [
        "noise = series.values[:1000]"
      ],
      "execution_count": 6,
      "outputs": []
    },
    {
      "cell_type": "code",
      "metadata": {
        "colab": {
          "base_uri": "https://localhost:8080/"
        },
        "id": "GB7qfdtJKkKG",
        "outputId": "f0cbf49e-2907-4165-abc5-fa5291eac1eb"
      },
      "source": [
        "np.mean(noise)"
      ],
      "execution_count": 7,
      "outputs": [
        {
          "output_type": "execute_result",
          "data": {
            "text/plain": [
              "1.999156943748162"
            ]
          },
          "metadata": {},
          "execution_count": 7
        }
      ]
    },
    {
      "cell_type": "code",
      "metadata": {
        "id": "E6y9M9PLKhtU"
      },
      "source": [
        "currupted_toss_data = series.values[1001:]"
      ],
      "execution_count": 8,
      "outputs": []
    },
    {
      "cell_type": "code",
      "metadata": {
        "colab": {
          "base_uri": "https://localhost:8080/"
        },
        "id": "YjkeQOBCKhpP",
        "outputId": "215b9976-e6df-4e37-85c9-2bd270bb574d"
      },
      "source": [
        "np.mean(currupted_toss_data)"
      ],
      "execution_count": 9,
      "outputs": [
        {
          "output_type": "execute_result",
          "data": {
            "text/plain": [
              "3.9787006360065718"
            ]
          },
          "metadata": {},
          "execution_count": 9
        }
      ]
    },
    {
      "cell_type": "code",
      "metadata": {
        "id": "UnLGuk1ZK4zf"
      },
      "source": [
        "toss_mean = np.mean(currupted_toss_data) - np.mean(noise)"
      ],
      "execution_count": 10,
      "outputs": []
    },
    {
      "cell_type": "code",
      "metadata": {
        "id": "Qrg60I-rK4u-"
      },
      "source": [
        "num_heads = (toss_mean*10000)/5"
      ],
      "execution_count": 11,
      "outputs": []
    },
    {
      "cell_type": "code",
      "metadata": {
        "id": "Iis5H_UqK4sl"
      },
      "source": [
        "bias = num_heads/10000"
      ],
      "execution_count": 12,
      "outputs": []
    },
    {
      "cell_type": "code",
      "metadata": {
        "colab": {
          "base_uri": "https://localhost:8080/"
        },
        "id": "ycWtk_RcK4qJ",
        "outputId": "eca52f00-5d07-4a6f-ce72-a0463850dbd4"
      },
      "source": [
        "bias"
      ],
      "execution_count": 13,
      "outputs": [
        {
          "output_type": "execute_result",
          "data": {
            "text/plain": [
              "0.39590873845168195"
            ]
          },
          "metadata": {},
          "execution_count": 13
        }
      ]
    },
    {
      "cell_type": "code",
      "metadata": {
        "colab": {
          "base_uri": "https://localhost:8080/"
        },
        "id": "_7VYqvQzR-0t",
        "outputId": "427c282d-1e79-40d0-fa8c-b96092be27fc"
      },
      "source": [
        "print(\"%.1f\" % bias);"
      ],
      "execution_count": 15,
      "outputs": [
        {
          "output_type": "stream",
          "name": "stdout",
          "text": [
            "0.4\n"
          ]
        }
      ]
    },
    {
      "cell_type": "markdown",
      "metadata": {
        "id": "U2Lw4Ca4vzLx"
      },
      "source": [
        "**charecterizing noise**"
      ]
    },
    {
      "cell_type": "code",
      "metadata": {
        "colab": {
          "base_uri": "https://localhost:8080/"
        },
        "id": "hZyu0S3rv2Va",
        "outputId": "992603ea-279e-45be-c8d2-406f47691910"
      },
      "source": [
        "np.mean(noise)"
      ],
      "execution_count": 23,
      "outputs": [
        {
          "output_type": "execute_result",
          "data": {
            "text/plain": [
              "1.999156943748162"
            ]
          },
          "metadata": {},
          "execution_count": 23
        }
      ]
    },
    {
      "cell_type": "code",
      "metadata": {
        "colab": {
          "base_uri": "https://localhost:8080/"
        },
        "id": "12K7iSE1v20s",
        "outputId": "a1d3992f-ceb2-459e-d6eb-16d8455c690c"
      },
      "source": [
        "np.std(noise)"
      ],
      "execution_count": 24,
      "outputs": [
        {
          "output_type": "execute_result",
          "data": {
            "text/plain": [
              "0.6784672216360712"
            ]
          },
          "metadata": {},
          "execution_count": 24
        }
      ]
    },
    {
      "cell_type": "code",
      "metadata": {
        "colab": {
          "base_uri": "https://localhost:8080/"
        },
        "id": "fWNBKTNPv2pv",
        "outputId": "236f0054-31b7-4e5a-cca8-3b38ef34f916"
      },
      "source": [
        "np.var(noise)"
      ],
      "execution_count": 25,
      "outputs": [
        {
          "output_type": "execute_result",
          "data": {
            "text/plain": [
              "0.4603177708345698"
            ]
          },
          "metadata": {},
          "execution_count": 25
        }
      ]
    },
    {
      "cell_type": "code",
      "metadata": {
        "colab": {
          "base_uri": "https://localhost:8080/",
          "height": 365
        },
        "id": "lp4eckdZv6pI",
        "outputId": "2bff59de-c377-4e08-b0a6-05a2cfe19dd6"
      },
      "source": [
        "sns.displot(noise , kde = True);"
      ],
      "execution_count": 29,
      "outputs": [
        {
          "output_type": "display_data",
          "data": {
            "image/png": "[encoded data removed]",
            "text/plain": [
              "<Figure size 406.6x360 with 1 Axes>"
            ]
          },
          "metadata": {}
        }
      ]
    }
  ]
}