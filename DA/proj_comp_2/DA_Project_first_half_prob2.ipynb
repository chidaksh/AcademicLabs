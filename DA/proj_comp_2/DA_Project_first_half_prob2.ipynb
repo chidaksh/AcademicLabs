{
  "nbformat": 4,
  "nbformat_minor": 0,
  "metadata": {
    "colab": {
      "name": "DA_Project_first_half_prob2.ipynb",
      "provenance": [],
      "collapsed_sections": []
    },
    "kernelspec": {
      "name": "python3",
      "display_name": "Python 3"
    },
    "language_info": {
      "name": "python"
    }
  },
  "cells": [
    {
      "cell_type": "markdown",
      "metadata": {
        "id": "T2RCTcEZ8bp_"
      },
      "source": [
        "NOTE:\n",
        "1. Please upload the file in .xls format only while running the below code.\n",
        "2. Upload this file on Google drive and then open with google colab."
      ]
    },
    {
      "cell_type": "code",
      "metadata": {
        "id": "-FYqwV03crvb"
      },
      "source": [
        "import numpy as np\n",
        "import pandas as pd\n",
        "\n",
        "import seaborn as sns\n",
        "import matplotlib.pyplot as plt\n",
        "import math\n",
        "\n",
        "                                                                                                           \n",
        "sns.set(color_codes=True);"
      ],
      "execution_count": 476,
      "outputs": []
    },
    {
      "cell_type": "code",
      "metadata": {
        "id": "YJQzBfVh7YSu"
      },
      "source": [
        "srs = pd.read_excel(\"comp_2_200010046.xls\",header=None)"
      ],
      "execution_count": 477,
      "outputs": []
    },
    {
      "cell_type": "code",
      "metadata": {
        "colab": {
          "base_uri": "https://localhost:8080/",
          "height": 365
        },
        "id": "ehTcU26q7lFy",
        "outputId": "e4da570a-3f5d-48a7-e497-991057245533"
      },
      "source": [
        "sns.displot(srs,kde=True);"
      ],
      "execution_count": 503,
      "outputs": [
        {
          "output_type": "display_data",
          "data": {
            "image/png": "[encoded data removed]",
            "text/plain": [
              "<Figure size 406.6x360 with 1 Axes>"
            ]
          },
          "metadata": {}
        }
      ]
    },
    {
      "cell_type": "code",
      "metadata": {
        "id": "GvYn0f57c65n"
      },
      "source": [
        "mean = np.mean(srs.values)\n",
        "var = np.var(srs.values)"
      ],
      "execution_count": 479,
      "outputs": []
    },
    {
      "cell_type": "code",
      "metadata": {
        "id": "FTW9Y_jfc6zp",
        "colab": {
          "base_uri": "https://localhost:8080/"
        },
        "outputId": "0beef426-9ca8-4e7a-819a-91f884cbab6c"
      },
      "source": [
        "print(mean,var)"
      ],
      "execution_count": 480,
      "outputs": [
        {
          "output_type": "stream",
          "name": "stdout",
          "text": [
            "95.68924320763108 1331.756965083951\n"
          ]
        }
      ]
    },
    {
      "cell_type": "code",
      "metadata": {
        "id": "gnBN9yanc6xC"
      },
      "source": [
        "ls = [2,3,4]"
      ],
      "execution_count": 481,
      "outputs": []
    },
    {
      "cell_type": "code",
      "metadata": {
        "id": "xyZAma8Kc6sq"
      },
      "source": [
        "a = (4/math.pi) -1 "
      ],
      "execution_count": 482,
      "outputs": []
    },
    {
      "cell_type": "code",
      "metadata": {
        "id": "nYaW58u3c6nx"
      },
      "source": [
        "b = ((math.pi)/2) -1"
      ],
      "execution_count": 483,
      "outputs": []
    },
    {
      "cell_type": "code",
      "metadata": {
        "id": "59nX9fw3dMv0"
      },
      "source": [
        "exp={}\n",
        "ray={}\n",
        "half={}\n",
        "for k in ls:\n",
        "  wmean = mean / (10*k)\n",
        "  wvar =(var - 3)/(100*k)\n",
        "  #print(wvar)\n",
        "  exp[(k,'exp')] = wvar - wmean**2\n",
        "  ray[(k,'ray')] = wvar - (a*(wmean**2))\n",
        "  half[(k,'half')] = wvar - (b * (wmean**2))\n"
      ],
      "execution_count": 484,
      "outputs": []
    },
    {
      "cell_type": "code",
      "metadata": {
        "id": "YN2JACuZjriz"
      },
      "source": [
        "#exp[(k,'half')]=1"
      ],
      "execution_count": 485,
      "outputs": []
    },
    {
      "cell_type": "code",
      "metadata": {
        "id": "wJqHNI1sdMtV",
        "colab": {
          "base_uri": "https://localhost:8080/"
        },
        "outputId": "95ae1023-c68a-42ee-c603-93ad6caff2c1"
      },
      "source": [
        "exp"
      ],
      "execution_count": 486,
      "outputs": [
        {
          "output_type": "execute_result",
          "data": {
            "text/plain": [
              "{(2, 'exp'): -16.24729333870317,\n",
              " (3, 'exp'): -5.744622633774797,\n",
              " (4, 'exp'): -2.4008771283208534}"
            ]
          },
          "metadata": {},
          "execution_count": 486
        }
      ]
    },
    {
      "cell_type": "code",
      "metadata": {
        "id": "2jvJ76P1dQyM",
        "colab": {
          "base_uri": "https://localhost:8080/"
        },
        "outputId": "092ee410-74d1-4443-95cd-f3f48b6fdd84"
      },
      "source": [
        "ray"
      ],
      "execution_count": 487,
      "outputs": [
        {
          "output_type": "execute_result",
          "data": {
            "text/plain": [
              "{(2, 'ray'): 0.38903704935778194,\n",
              " (3, 'ray'): 1.6493019831411817,\n",
              " (4, 'ray'): 1.7582054686943842}"
            ]
          },
          "metadata": {},
          "execution_count": 487
        }
      ]
    },
    {
      "cell_type": "code",
      "metadata": {
        "id": "A40EAj2WdMp0",
        "colab": {
          "base_uri": "https://localhost:8080/"
        },
        "outputId": "53bc2ac2-f848-43df-fb41-5c0e5f96a47d"
      },
      "source": [
        "half"
      ],
      "execution_count": 488,
      "outputs": [
        {
          "output_type": "execute_result",
          "data": {
            "text/plain": [
              "{(2, 'half'): -6.422358507036473,\n",
              " (3, 'half'): -1.377984930811821,\n",
              " (4, 'half'): 0.05535657959582041}"
            ]
          },
          "metadata": {},
          "execution_count": 488
        }
      ]
    },
    {
      "cell_type": "code",
      "metadata": {
        "id": "lhVVH5a9eTgI"
      },
      "source": [
        "sort_exp = sorted(exp.items(),key=lambda x:abs(x[1]))\n",
        "sort_ray = sorted(ray.items(),key=lambda x:abs(x[1]))\n",
        "sort_half = sorted(half.items(),key=lambda x:abs(x[1]))"
      ],
      "execution_count": 490,
      "outputs": []
    },
    {
      "cell_type": "code",
      "metadata": {
        "colab": {
          "base_uri": "https://localhost:8080/"
        },
        "id": "Di2HdvS4JPQd",
        "outputId": "7ea0cc84-2ec4-4e23-f961-a89257da13a9"
      },
      "source": [
        "sort_exp"
      ],
      "execution_count": 491,
      "outputs": [
        {
          "output_type": "execute_result",
          "data": {
            "text/plain": [
              "[((4, 'exp'), -2.4008771283208534),\n",
              " ((3, 'exp'), -5.744622633774797),\n",
              " ((2, 'exp'), -16.24729333870317)]"
            ]
          },
          "metadata": {},
          "execution_count": 491
        }
      ]
    },
    {
      "cell_type": "code",
      "metadata": {
        "colab": {
          "base_uri": "https://localhost:8080/"
        },
        "id": "dMduGIBLYzE2",
        "outputId": "7cdafe5b-3a94-4e46-c23a-cd6a81eb9bd4"
      },
      "source": [
        "sort_ray"
      ],
      "execution_count": 492,
      "outputs": [
        {
          "output_type": "execute_result",
          "data": {
            "text/plain": [
              "[((2, 'ray'), 0.38903704935778194),\n",
              " ((3, 'ray'), 1.6493019831411817),\n",
              " ((4, 'ray'), 1.7582054686943842)]"
            ]
          },
          "metadata": {},
          "execution_count": 492
        }
      ]
    },
    {
      "cell_type": "code",
      "metadata": {
        "colab": {
          "base_uri": "https://localhost:8080/"
        },
        "id": "X7_jfGfnd33P",
        "outputId": "3274fe40-65cf-47c3-a4b0-4a027e9dc14c"
      },
      "source": [
        "sort_half"
      ],
      "execution_count": 493,
      "outputs": [
        {
          "output_type": "execute_result",
          "data": {
            "text/plain": [
              "[((4, 'half'), 0.05535657959582041),\n",
              " ((3, 'half'), -1.377984930811821),\n",
              " ((2, 'half'), -6.422358507036473)]"
            ]
          },
          "metadata": {},
          "execution_count": 493
        }
      ]
    },
    {
      "cell_type": "code",
      "metadata": {
        "id": "Gv446XlugoQ3"
      },
      "source": [
        "if (abs(sort_exp[0][1])<abs(sort_ray[0][1])):\n",
        "  min = abs(sort_exp[0][1])\n",
        "  if (min>abs(sort_half[0][1])):\n",
        "    min = abs(sort_half[0][1])\n",
        "else:\n",
        "  min = abs(sort_ray[0][1])\n",
        "  if (min>abs(sort_half[0][1])):\n",
        "    min = abs(sort_half[0][1])"
      ],
      "execution_count": 495,
      "outputs": []
    },
    {
      "cell_type": "code",
      "metadata": {
        "colab": {
          "base_uri": "https://localhost:8080/"
        },
        "id": "bL-bzWE_6ze_",
        "outputId": "cfbaa889-8c45-4f48-803a-247403df692c"
      },
      "source": [
        "print(min)"
      ],
      "execution_count": 496,
      "outputs": [
        {
          "output_type": "stream",
          "name": "stdout",
          "text": [
            "0.05535657959582041\n"
          ]
        }
      ]
    },
    {
      "cell_type": "code",
      "metadata": {
        "colab": {
          "base_uri": "https://localhost:8080/"
        },
        "id": "aL3Pf1tUguhY",
        "outputId": "a44612f4-5cc0-48fa-9b7f-2c04cf14c0f6"
      },
      "source": [
        "if abs(sort_exp[0][1]==min):\n",
        "  print(\"k value is\",sort_exp[0][0][0])\n",
        "  print(\"distribution is Exponential\")\n",
        "  sigma = (mean/(10*sort_exp[0][0][0]))*((math.pi/2)**0.5)\n",
        "  print(\"charecterization parameter is\",sigma)\n",
        "else:\n",
        "  if abs(sort_ray[0][1]==min):\n",
        "    print(\"k value is\",sort_ray[0][0][0])\n",
        "    print(\"distribution is Rayleigh\")\n",
        "    sigma = (mean/(10*sort_ray[0][0][0]))*((math.pi/2)**0.5)\n",
        "    print(\"charecterization parameter is\",sigma)\n",
        "  else :\n",
        "    print(\"k value is\",sort_half[0][0][0])\n",
        "    print(\"distribution is Half-normal\")\n",
        "    sigma = (mean/(10*sort_half[0][0][0]))*((math.pi/2)**0.5)\n",
        "    print(\"charecterization parameter is\",sigma)"
      ],
      "execution_count": 502,
      "outputs": [
        {
          "output_type": "stream",
          "name": "stdout",
          "text": [
            "k value is 4\n",
            "distribution is Half-normal\n",
            "charecterization parameter is 2.9982170325286304\n"
          ]
        }
      ]
    },
    {
      "cell_type": "code",
      "metadata": {
        "colab": {
          "base_uri": "https://localhost:8080/"
        },
        "id": "do9y1UQI8EVt",
        "outputId": "d70998ca-0fff-40dc-897c-d75569140dbf"
      },
      "source": [
        "print(\"error in the varience from distribution found and the data is\",min)"
      ],
      "execution_count": 498,
      "outputs": [
        {
          "output_type": "stream",
          "name": "stdout",
          "text": [
            "error in the varience from distribution found and the data is 0.05535657959582041\n"
          ]
        }
      ]
    }
  ]
}